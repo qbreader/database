{
 "cells": [
  {
   "cell_type": "code",
   "execution_count": 2,
   "metadata": {},
   "outputs": [],
   "source": [
    "from collections import Counter\n",
    "from tqdm import tqdm\n",
    "import json\n",
    "import pandas as pd\n",
    "import numpy as np"
   ]
  },
  {
   "cell_type": "code",
   "execution_count": null,
   "metadata": {},
   "outputs": [],
   "source": [
    "# download buzzpoint-data-small.txt (168 MB) from this link:\n",
    "# https://drive.google.com/file/d/1PfIMa-eh5nQHm9ERTpKLVxNST7DTGoXq/view?usp=sharing\n",
    "# this only includes the \"celerity\", \"isCorrect\", and \"difficulty\" fields"
   ]
  },
  {
   "cell_type": "code",
   "execution_count": null,
   "metadata": {},
   "outputs": [],
   "source": [
    "# download buzzpoint-data-big.txt (394 MB) from this link:\n",
    "# https://drive.google.com/file/d/12-97sHnTA9eqJ5Ja_O4N-hUDFt6XgAen/view?usp=sharing\n",
    "# in addition to the above fields, this includes \"_id\", \"subcategory\", and \"alternate_subcategory\" (if it exists)"
   ]
  },
  {
   "cell_type": "code",
   "execution_count": null,
   "metadata": {},
   "outputs": [
    {
     "name": "stderr",
     "output_type": "stream",
     "text": [
      "2917962it [00:04, 676980.80it/s]\n"
     ]
    }
   ],
   "source": [
    "buzzpoints = []\n",
    "with open('buzzpoint-data.txt') as f:\n",
    "    for line in tqdm(f):\n",
    "        buzzpoints.append(json.loads(line))"
   ]
  },
  {
   "cell_type": "code",
   "execution_count": 4,
   "metadata": {},
   "outputs": [
    {
     "data": {
      "text/html": [
       "<div>\n",
       "<style scoped>\n",
       "    .dataframe tbody tr th:only-of-type {\n",
       "        vertical-align: middle;\n",
       "    }\n",
       "\n",
       "    .dataframe tbody tr th {\n",
       "        vertical-align: top;\n",
       "    }\n",
       "\n",
       "    .dataframe thead th {\n",
       "        text-align: right;\n",
       "    }\n",
       "</style>\n",
       "<table border=\"1\" class=\"dataframe\">\n",
       "  <thead>\n",
       "    <tr style=\"text-align: right;\">\n",
       "      <th></th>\n",
       "      <th>celerity</th>\n",
       "      <th>isCorrect</th>\n",
       "      <th>difficulty</th>\n",
       "    </tr>\n",
       "  </thead>\n",
       "  <tbody>\n",
       "    <tr>\n",
       "      <th>0</th>\n",
       "      <td>0.517241</td>\n",
       "      <td>False</td>\n",
       "      <td>7</td>\n",
       "    </tr>\n",
       "    <tr>\n",
       "      <th>1</th>\n",
       "      <td>0.336436</td>\n",
       "      <td>True</td>\n",
       "      <td>6</td>\n",
       "    </tr>\n",
       "    <tr>\n",
       "      <th>2</th>\n",
       "      <td>0.097291</td>\n",
       "      <td>True</td>\n",
       "      <td>7</td>\n",
       "    </tr>\n",
       "    <tr>\n",
       "      <th>3</th>\n",
       "      <td>0.000000</td>\n",
       "      <td>True</td>\n",
       "      <td>7</td>\n",
       "    </tr>\n",
       "    <tr>\n",
       "      <th>4</th>\n",
       "      <td>0.552664</td>\n",
       "      <td>False</td>\n",
       "      <td>7</td>\n",
       "    </tr>\n",
       "    <tr>\n",
       "      <th>...</th>\n",
       "      <td>...</td>\n",
       "      <td>...</td>\n",
       "      <td>...</td>\n",
       "    </tr>\n",
       "    <tr>\n",
       "      <th>2917957</th>\n",
       "      <td>0.017417</td>\n",
       "      <td>True</td>\n",
       "      <td>4</td>\n",
       "    </tr>\n",
       "    <tr>\n",
       "      <th>2917958</th>\n",
       "      <td>0.865569</td>\n",
       "      <td>True</td>\n",
       "      <td>5</td>\n",
       "    </tr>\n",
       "    <tr>\n",
       "      <th>2917959</th>\n",
       "      <td>0.245307</td>\n",
       "      <td>True</td>\n",
       "      <td>5</td>\n",
       "    </tr>\n",
       "    <tr>\n",
       "      <th>2917960</th>\n",
       "      <td>0.119863</td>\n",
       "      <td>True</td>\n",
       "      <td>3</td>\n",
       "    </tr>\n",
       "    <tr>\n",
       "      <th>2917961</th>\n",
       "      <td>0.000000</td>\n",
       "      <td>True</td>\n",
       "      <td>5</td>\n",
       "    </tr>\n",
       "  </tbody>\n",
       "</table>\n",
       "<p>2917960 rows × 3 columns</p>\n",
       "</div>"
      ],
      "text/plain": [
       "         celerity  isCorrect  difficulty\n",
       "0        0.517241      False           7\n",
       "1        0.336436       True           6\n",
       "2        0.097291       True           7\n",
       "3        0.000000       True           7\n",
       "4        0.552664      False           7\n",
       "...           ...        ...         ...\n",
       "2917957  0.017417       True           4\n",
       "2917958  0.865569       True           5\n",
       "2917959  0.245307       True           5\n",
       "2917960  0.119863       True           3\n",
       "2917961  0.000000       True           5\n",
       "\n",
       "[2917960 rows x 3 columns]"
      ]
     },
     "execution_count": 4,
     "metadata": {},
     "output_type": "execute_result"
    }
   ],
   "source": [
    "df = pd.DataFrame(buzzpoints)\n",
    "df = df.loc[(df['celerity'] <= 1.0) & (df['celerity'] >= 0.0)]\n",
    "df"
   ]
  },
  {
   "cell_type": "code",
   "execution_count": 10,
   "metadata": {},
   "outputs": [
    {
     "name": "stdout",
     "output_type": "stream",
     "text": [
      "difficulties 1 to 2: 546762 questions\n",
      "True: [11337, 12754, 13830, 15806, 16889, 17129, 17422, 17639, 18710, 19444, 20610, 20667, 20683, 20837, 22565, 25328, 23742, 12888, 2407, 787, 0]\n",
      "False: [2897, 3526, 3983, 4645, 4866, 5218, 5427, 5587, 6084, 6139, 6429, 6462, 6217, 6416, 6400, 6360, 4971, 2368, 1037, 1581, 12]\n",
      "405247/546762 (74.12%)\n",
      "118663/546762 (21.70%)\n",
      "\n",
      "difficulties 3 to 5: 1706138 questions\n",
      "True: [46518, 49312, 59738, 60321, 58337, 57581, 58921, 60667, 59449, 57866, 57030, 55423, 53349, 48334, 40934, 37458, 37758, 27999, 7028, 2765, 3]\n",
      "False: [13627, 16145, 19896, 20840, 21156, 22286, 23431, 24927, 25800, 26522, 27485, 26590, 24989, 21843, 18291, 16705, 14712, 8616, 2715, 3560, 30]\n",
      "1150036/1706138 (67.41%)\n",
      "389181/1706138 (22.81%)\n",
      "\n",
      "difficulties 6 to 8: 542938 questions\n",
      "True: [16918, 19378, 23738, 22743, 21767, 21490, 21992, 21339, 20742, 19685, 19008, 17198, 15972, 14190, 11492, 9608, 9207, 7242, 1809, 218, 0]\n",
      "False: [4133, 5332, 6744, 6869, 6890, 7650, 7942, 8229, 8429, 8418, 8396, 7742, 6826, 5653, 4623, 3802, 3291, 2073, 689, 872, 2]\n",
      "379823/542938 (69.96%)\n",
      "112597/542938 (20.74%)\n",
      "\n",
      "difficulties 9 to 10: 94364 questions\n",
      "True: [3584, 3744, 4005, 3407, 3128, 2907, 2588, 2371, 2219, 2139, 1895, 1671, 1482, 1348, 1149, 958, 892, 807, 310, 94, 0]\n",
      "False: [1207, 1466, 1530, 1477, 1566, 1526, 1372, 1437, 1335, 1233, 1173, 1051, 912, 751, 598, 489, 404, 326, 169, 201, 0]\n",
      "55127/94364 (58.42%)\n",
      "33443/94364 (35.44%)\n",
      "\n"
     ]
    }
   ],
   "source": [
    "for [lower, upper] in [[1, 2], [3, 5], [6, 8], [9, 10]]:\n",
    "    temp_df = df.loc[(df['difficulty'] >= lower) & (df['difficulty'] <= upper)]\n",
    "    print(f'difficulties {lower} to {upper}: {len(temp_df)} questions')\n",
    "    for correct in [True, False]:\n",
    "        celerities = temp_df.loc[(temp_df['isCorrect'] == correct) & (df['celerity'] > 0), 'celerity'].values\n",
    "        celerities = np.floor(20 * celerities) / 20\n",
    "        counts = []\n",
    "        for i in range(0, 21):\n",
    "            counts.append(np.sum(celerities == i/20))\n",
    "        print(f'{correct}: {counts}')\n",
    "\n",
    "    correct = sum(temp_df['isCorrect'])\n",
    "    print(f'{correct}/{len(temp_df)} ({correct/len(temp_df)*100:.2f}%)')\n",
    "    end = temp_df.loc[temp_df['celerity'] == 0]\n",
    "    print(f'{len(end)}/{len(temp_df)} ({len(end)/len(temp_df)*100:.2f}%)')\n",
    "    print()"
   ]
  },
  {
   "cell_type": "code",
   "execution_count": 11,
   "metadata": {},
   "outputs": [
    {
     "data": {
      "text/plain": [
       "<Axes: ylabel='Frequency'>"
      ]
     },
     "execution_count": 11,
     "metadata": {},
     "output_type": "execute_result"
    },
    {
     "data": {
      "image/png": "[encoded data removed]",
      "text/plain": [
       "<Figure size 640x480 with 1 Axes>"
      ]
     },
     "metadata": {},
     "output_type": "display_data"
    }
   ],
   "source": [
    "[lower, upper] = [9, 10]\n",
    "df.loc[(df['difficulty'] >= lower) & (df['difficulty'] <= upper) & (df['celerity'] > 0), 'celerity'].plot.hist(bins=100)"
   ]
  },
  {
   "cell_type": "code",
   "execution_count": 7,
   "metadata": {},
   "outputs": [
    {
     "name": "stdout",
     "output_type": "stream",
     "text": [
      "664370 / 2917960 (22.77%) questions have celerity 0\n"
     ]
    }
   ],
   "source": [
    "print(f'{sum(df['celerity'] == 0)} / {len(df)} ({100*sum(df['celerity'] == 0)/len(df):.2f}%) questions have celerity 0')"
   ]
  },
  {
   "cell_type": "code",
   "execution_count": null,
   "metadata": {},
   "outputs": [],
   "source": []
  }
 ],
 "metadata": {
  "kernelspec": {
   "display_name": "base",
   "language": "python",
   "name": "python3"
  },
  "language_info": {
   "codemirror_mode": {
    "name": "ipython",
    "version": 3
   },
   "file_extension": ".py",
   "mimetype": "text/x-python",
   "name": "python",
   "nbconvert_exporter": "python",
   "pygments_lexer": "ipython3",
   "version": "3.12.2"
  }
 },
 "nbformat": 4,
 "nbformat_minor": 2
}
